{
 "cells": [
  {
   "cell_type": "markdown",
   "id": "884c1201",
   "metadata": {},
   "source": [
    "### Importing the required libraries "
   ]
  },
  {
   "cell_type": "code",
   "execution_count": 1,
   "id": "2e8a75c6",
   "metadata": {},
   "outputs": [
    {
     "name": "stderr",
     "output_type": "stream",
     "text": [
      "C:\\Users\\kalpa\\anaconda3\\lib\\site-packages\\numpy\\_distributor_init.py:30: UserWarning: loaded more than 1 DLL from .libs:\n",
      "C:\\Users\\kalpa\\anaconda3\\lib\\site-packages\\numpy\\.libs\\libopenblas.GK7GX5KEQ4F6UYO3P26ULGBQYHGQO7J4.gfortran-win_amd64.dll\n",
      "C:\\Users\\kalpa\\anaconda3\\lib\\site-packages\\numpy\\.libs\\libopenblas.WCDJNK7YVMPZQ2ME2ZZHJJRJ3JIKNDB7.gfortran-win_amd64.dll\n",
      "  warnings.warn(\"loaded more than 1 DLL from .libs:\"\n"
     ]
    }
   ],
   "source": [
    "import cv2\n",
    "import numpy as np\n",
    "import os\n",
    "from PIL import Image\n",
    "from matplotlib import pyplot as plt"
   ]
  },
  {
   "cell_type": "markdown",
   "id": "5d974e41",
   "metadata": {},
   "source": [
    "### Creating directories for storing the captured images as dataset "
   ]
  },
  {
   "cell_type": "code",
   "execution_count": 2,
   "id": "7b551303",
   "metadata": {},
   "outputs": [],
   "source": [
    "if not os.path.exists(\"data\"):\n",
    "    os.makedirs(\"data/train\")\n",
    "    os.makedirs(\"data/train/01_fist\")\n",
    "    os.makedirs(\"data/train/02_thumbs-up\")\n",
    "    os.makedirs(\"data/train/03_thumbs-down\")\n",
    "    os.makedirs(\"data/train/04_no-gesture\")\n",
    "\n",
    "    os.makedirs(\"data/test\")\n",
    "    os.makedirs(\"data/test/01_fist\")\n",
    "    os.makedirs(\"data/test/02_thumbs-up\")\n",
    "    os.makedirs(\"data/test/03_thumbs-down\")\n",
    "    os.makedirs(\"data/test/04_no-gesture\")"
   ]
  },
  {
   "cell_type": "code",
   "execution_count": 3,
   "id": "cc7ad781",
   "metadata": {},
   "outputs": [
    {
     "data": {
      "text/plain": [
       "['test', 'train']"
      ]
     },
     "execution_count": 3,
     "metadata": {},
     "output_type": "execute_result"
    }
   ],
   "source": [
    "os.listdir('data')"
   ]
  },
  {
   "cell_type": "code",
   "execution_count": 4,
   "id": "4f974463",
   "metadata": {},
   "outputs": [
    {
     "data": {
      "text/plain": [
       "['01_fist', '02_thumbs-up', '03_thumbs-down', '04_no-gesture']"
      ]
     },
     "execution_count": 4,
     "metadata": {},
     "output_type": "execute_result"
    }
   ],
   "source": [
    "os.listdir('data/train')"
   ]
  },
  {
   "cell_type": "code",
   "execution_count": 5,
   "id": "68d17e95",
   "metadata": {},
   "outputs": [
    {
     "data": {
      "text/plain": [
       "['01_fist', '02_thumbs-up', '03_thumbs-down', '04_no-gesture']"
      ]
     },
     "execution_count": 5,
     "metadata": {},
     "output_type": "execute_result"
    }
   ],
   "source": [
    "os.listdir('data/test')"
   ]
  },
  {
   "cell_type": "markdown",
   "id": "761a0187",
   "metadata": {},
   "source": [
    "### Enter Mode - Train or Test "
   ]
  },
  {
   "cell_type": "code",
   "execution_count": 6,
   "id": "bbc416ef",
   "metadata": {},
   "outputs": [
    {
     "name": "stdout",
     "output_type": "stream",
     "text": [
      "Enter mode:\n",
      "train\n"
     ]
    }
   ],
   "source": [
    "print('Enter mode:')\n",
    "mode = input()"
   ]
  },
  {
   "cell_type": "code",
   "execution_count": 7,
   "id": "38ac218e",
   "metadata": {},
   "outputs": [],
   "source": [
    "if mode == 'train':   \n",
    "    directory = 'data/'+mode+'/'\n",
    "else:\n",
    "    directory = 'data/'+mode+'/'"
   ]
  },
  {
   "cell_type": "markdown",
   "id": "35b8be42",
   "metadata": {},
   "source": [
    "### Capture images for Dataset "
   ]
  },
  {
   "cell_type": "code",
   "execution_count": 27,
   "id": "d363abcd",
   "metadata": {},
   "outputs": [],
   "source": [
    "# video capturing starts\n",
    "cap = cv2.VideoCapture(0)\n",
    "\n",
    "while True:\n",
    "    _, frame = cap.read()\n",
    "    frame = cv2.flip(frame, 1)\n",
    "\n",
    "    # Getting count of existing images\n",
    "    count = {\n",
    "             'fist': len(os.listdir(directory+\"/01_fist\")),\n",
    "             'thumbs-up': len(os.listdir(directory+\"/02_thumbs-up\")),\n",
    "             'thumbs-down': len(os.listdir(directory+\"/03_thumbs-down\")),\n",
    "             'no-gesture': len(os.listdir(directory+\"/04_no-gesture\")),\n",
    "            }\n",
    "    \n",
    "    # Printing the text on the screen\n",
    "    cv2.putText(frame, \"MODE: \"+mode, (10, 50),cv2.FONT_HERSHEY_COMPLEX_SMALL, 1, (0,255,255), 1)\n",
    "    cv2.putText(frame, \"IMAGE COUNT:\", (10, 100), cv2.FONT_HERSHEY_COMPLEX_SMALL, 1, (0, 255, 255), 1)\n",
    "    cv2.putText(frame, \"Raised Fist(1):\"+str(count['fist']), (10, 200), cv2.FONT_HERSHEY_COMPLEX_SMALL, 1, (0, 255, 255), 1)\n",
    "    cv2.putText(frame, \"Thumbs-Up(2):\"+str(count['thumbs-up']), (10, 250), cv2.FONT_HERSHEY_COMPLEX_SMALL, 1, (0, 255, 255), 1)\n",
    "    cv2.putText(frame, \"Thumbs-Down(3):\"+str(count['thumbs-down']), (10, 300), cv2.FONT_HERSHEY_COMPLEX_SMALL, 1, (0, 255, 255), 1)\n",
    "    cv2.putText(frame, \"No gesture(4):\"+str(count['no-gesture']), (10, 350), cv2.FONT_HERSHEY_COMPLEX_SMALL, 1, (0, 255, 255), 1)\n",
    "\n",
    "    x1 = int(0.5*frame.shape[1])\n",
    "    y1 = 10\n",
    "    x2 = frame.shape[1]-10\n",
    "    y2 = int(0.5*frame.shape[1])\n",
    "    \n",
    "    # Drawing the ROI\n",
    "    cv2.rectangle(frame, (x1, y1), (x2, y2), (0, 0, 255),3)\n",
    "    \n",
    "    # Extracting the ROI\n",
    "    roi = frame[y1:y2, x1:x2]\n",
    "    roi = cv2.resize(roi, (120, 120))\n",
    "\n",
    "    cv2.imshow(\"Collecting data\", frame)\n",
    "\n",
    "    # processing the captured image\n",
    "    roi = cv2.cvtColor(roi, cv2.COLOR_BGR2GRAY)\n",
    "    _, roi = cv2.threshold(roi, 130, 255, cv2.THRESH_BINARY)\n",
    "    cv2.imshow(\"ROI\", roi)\n",
    "\n",
    "    interrupt = cv2.waitKey(10)\n",
    "    \n",
    "    if interrupt & 0xFF == 27: # esc key\n",
    "        break\n",
    "    if interrupt & 0xFF == ord('1'):\n",
    "        cv2.imwrite(directory+'01_fist/'+str(count['fist'])+'.jpg', roi)\n",
    "    if interrupt & 0xFF == ord('2'):\n",
    "        cv2.imwrite(directory+'02_thumbs-up/'+str(count['thumbs-up'])+'.jpg', roi)\n",
    "    if interrupt & 0xFF == ord('3'):\n",
    "        cv2.imwrite(directory+'03_thumbs-down/'+str(count['thumbs-down'])+'.jpg', roi)\n",
    "    if interrupt & 0xFF == ord('4'):\n",
    "        cv2.imwrite(directory+'04_no-gesture/'+str(count['no-gesture'])+'.jpg', roi)\n",
    "\n",
    "cap.release()\n",
    "cv2.destroyAllWindows()"
   ]
  },
  {
   "cell_type": "code",
   "execution_count": null,
   "id": "ec9292c9",
   "metadata": {},
   "outputs": [],
   "source": []
  },
  {
   "cell_type": "markdown",
   "id": "1dcab5f9",
   "metadata": {},
   "source": [
    "### Gestures in Dataset "
   ]
  },
  {
   "cell_type": "code",
   "execution_count": 9,
   "id": "6b89615c",
   "metadata": {},
   "outputs": [
    {
     "data": {
      "text/plain": [
       "<matplotlib.image.AxesImage at 0x20aa4085e50>"
      ]
     },
     "execution_count": 9,
     "metadata": {},
     "output_type": "execute_result"
    },
    {
     "data": {
      "image/png": "[encoded data removed]",
      "text/plain": [
       "<Figure size 640x480 with 1 Axes>"
      ]
     },
     "metadata": {},
     "output_type": "display_data"
    }
   ],
   "source": [
    "img = Image.open('data\\\\train\\\\01_fist\\\\1.jpg')\n",
    "plt.imshow(img)"
   ]
  },
  {
   "cell_type": "code",
   "execution_count": 10,
   "id": "8abccde0",
   "metadata": {},
   "outputs": [
    {
     "data": {
      "text/plain": [
       "<matplotlib.image.AxesImage at 0x20aa416bc70>"
      ]
     },
     "execution_count": 10,
     "metadata": {},
     "output_type": "execute_result"
    },
    {
     "data": {
      "image/png": "[encoded data removed]",
      "text/plain": [
       "<Figure size 640x480 with 1 Axes>"
      ]
     },
     "metadata": {},
     "output_type": "display_data"
    }
   ],
   "source": [
    "img = Image.open('data\\\\train\\\\02_thumbs-up\\\\1.jpg')\n",
    "plt.imshow(img)"
   ]
  },
  {
   "cell_type": "code",
   "execution_count": 11,
   "id": "6d66b28d",
   "metadata": {},
   "outputs": [
    {
     "data": {
      "text/plain": [
       "<matplotlib.image.AxesImage at 0x20aa5476370>"
      ]
     },
     "execution_count": 11,
     "metadata": {},
     "output_type": "execute_result"
    },
    {
     "data": {
      "image/png": "[encoded data removed]",
      "text/plain": [
       "<Figure size 640x480 with 1 Axes>"
      ]
     },
     "metadata": {},
     "output_type": "display_data"
    }
   ],
   "source": [
    "img = Image.open('data\\\\train\\\\03_thumbs-down\\\\1.jpg')\n",
    "plt.imshow(img)"
   ]
  },
  {
   "cell_type": "code",
   "execution_count": 12,
   "id": "42b929ba",
   "metadata": {},
   "outputs": [
    {
     "data": {
      "text/plain": [
       "<matplotlib.image.AxesImage at 0x20aa54ee1c0>"
      ]
     },
     "execution_count": 12,
     "metadata": {},
     "output_type": "execute_result"
    },
    {
     "data": {
      "image/png": "[encoded data removed]",
      "text/plain": [
       "<Figure size 640x480 with 1 Axes>"
      ]
     },
     "metadata": {},
     "output_type": "display_data"
    }
   ],
   "source": [
    "img = Image.open('data\\\\train\\\\04_no-gesture\\\\1.jpg')\n",
    "plt.imshow(img)"
   ]
  },
  {
   "cell_type": "markdown",
   "id": "d9cc5a6d",
   "metadata": {},
   "source": [
    "### Training CNN model "
   ]
  },
  {
   "cell_type": "code",
   "execution_count": 13,
   "id": "c2318c03",
   "metadata": {},
   "outputs": [],
   "source": [
    "from keras.models import Sequential\n",
    "from keras.layers.convolutional import Conv2D, MaxPooling2D\n",
    "from keras.layers import Dense, Flatten"
   ]
  },
  {
   "cell_type": "markdown",
   "id": "2d7a8973",
   "metadata": {},
   "source": [
    "### Building the CNN "
   ]
  },
  {
   "cell_type": "code",
   "execution_count": 14,
   "id": "06c0bc1e",
   "metadata": {},
   "outputs": [],
   "source": [
    "# Initializing the CNN\n",
    "model = Sequential()\n",
    "\n",
    "# First convolution layer and pooling\n",
    "model.add(Conv2D(32, (3, 3), activation='relu', input_shape=(120, 120, 1)))\n",
    "model.add(MaxPooling2D((2, 2)))\n",
    "\n",
    "# Second convolution layer and pooling\n",
    "model.add(Conv2D(64, (3, 3), activation='relu'))\n",
    "model.add(MaxPooling2D((2, 2)))\n",
    "\n",
    "# Third convolution layer\n",
    "model.add(Conv2D(128, (3, 3), activation='relu'))\n",
    "model.add(MaxPooling2D((2, 2)))\n",
    "\n",
    "# Flattening the layers\n",
    "model.add(Flatten())\n",
    "\n",
    "# Adding a fully connected layer\n",
    "model.add(Dense(256, activation='relu'))\n",
    "model.add(Dense(4, activation='softmax'))"
   ]
  },
  {
   "cell_type": "code",
   "execution_count": 15,
   "id": "e12a381f",
   "metadata": {},
   "outputs": [],
   "source": [
    "# Compiling the CNN\n",
    "model.compile(optimizer='adam', loss='categorical_crossentropy', metrics=['accuracy'])  "
   ]
  },
  {
   "cell_type": "markdown",
   "id": "bc15b772",
   "metadata": {},
   "source": [
    "### Preparing the train/test data and training the model"
   ]
  },
  {
   "cell_type": "code",
   "execution_count": 16,
   "id": "6ee51233",
   "metadata": {},
   "outputs": [
    {
     "name": "stdout",
     "output_type": "stream",
     "text": [
      "Found 436 images belonging to 4 classes.\n",
      "Found 200 images belonging to 4 classes.\n"
     ]
    }
   ],
   "source": [
    "from keras.preprocessing.image import ImageDataGenerator\n",
    "train_datagen = ImageDataGenerator(\n",
    "        rescale=1./255,\n",
    "        shear_range=0.2,\n",
    "        zoom_range=0.2,\n",
    "        )\n",
    "\n",
    "\n",
    "test_datagen = ImageDataGenerator(rescale=1./255)\n",
    "\n",
    "training_set = train_datagen.flow_from_directory('data/train',\n",
    "                                                 target_size=(120, 120),\n",
    "                                                 batch_size=7,\n",
    "                                                 color_mode='grayscale',\n",
    "                                                 class_mode='categorical')\n",
    "\n",
    "\n",
    "test_set = test_datagen.flow_from_directory('data/test',\n",
    "                                            target_size=(120, 120),\n",
    "                                            batch_size=7,\n",
    "                                            color_mode='grayscale',\n",
    "                                            class_mode='categorical')\n"
   ]
  },
  {
   "cell_type": "code",
   "execution_count": 17,
   "id": "a1aead32",
   "metadata": {},
   "outputs": [
    {
     "name": "stdout",
     "output_type": "stream",
     "text": [
      "Epoch 1/20\n",
      "63/63 [==============================] - 5s 76ms/step - loss: 0.7975 - accuracy: 0.7133 - val_loss: 0.3446 - val_accuracy: 0.8750\n",
      "Epoch 2/20\n",
      "63/63 [==============================] - 5s 75ms/step - loss: 0.2356 - accuracy: 0.9266 - val_loss: 0.2814 - val_accuracy: 0.9050\n",
      "Epoch 3/20\n",
      "63/63 [==============================] - 5s 72ms/step - loss: 0.1259 - accuracy: 0.9564 - val_loss: 0.2174 - val_accuracy: 0.9500\n",
      "Epoch 4/20\n",
      "63/63 [==============================] - 5s 73ms/step - loss: 0.0744 - accuracy: 0.9702 - val_loss: 0.2020 - val_accuracy: 0.9350\n",
      "Epoch 5/20\n",
      "63/63 [==============================] - 5s 72ms/step - loss: 0.0569 - accuracy: 0.9839 - val_loss: 0.2606 - val_accuracy: 0.9400\n",
      "Epoch 6/20\n",
      "63/63 [==============================] - 5s 74ms/step - loss: 0.0621 - accuracy: 0.9771 - val_loss: 0.2397 - val_accuracy: 0.9350\n",
      "Epoch 7/20\n",
      "63/63 [==============================] - 5s 77ms/step - loss: 0.0473 - accuracy: 0.9839 - val_loss: 0.1483 - val_accuracy: 0.9550\n",
      "Epoch 8/20\n",
      "63/63 [==============================] - 5s 73ms/step - loss: 0.0076 - accuracy: 0.9977 - val_loss: 0.2533 - val_accuracy: 0.9450\n",
      "Epoch 9/20\n",
      "63/63 [==============================] - 5s 74ms/step - loss: 0.0034 - accuracy: 1.0000 - val_loss: 0.1657 - val_accuracy: 0.9500\n",
      "Epoch 10/20\n",
      "63/63 [==============================] - 5s 73ms/step - loss: 4.2413e-04 - accuracy: 1.0000 - val_loss: 0.2148 - val_accuracy: 0.9500\n",
      "Epoch 11/20\n",
      "63/63 [==============================] - 5s 72ms/step - loss: 8.2372e-04 - accuracy: 1.0000 - val_loss: 0.3524 - val_accuracy: 0.9400\n",
      "Epoch 12/20\n",
      "63/63 [==============================] - 4s 71ms/step - loss: 2.4931e-04 - accuracy: 1.0000 - val_loss: 0.3739 - val_accuracy: 0.9400\n",
      "Epoch 13/20\n",
      "63/63 [==============================] - 5s 71ms/step - loss: 8.5640e-04 - accuracy: 1.0000 - val_loss: 0.2260 - val_accuracy: 0.9450\n",
      "Epoch 14/20\n",
      "63/63 [==============================] - 5s 72ms/step - loss: 0.0505 - accuracy: 0.9862 - val_loss: 0.0902 - val_accuracy: 0.9650\n",
      "Epoch 15/20\n",
      "63/63 [==============================] - 5s 73ms/step - loss: 0.0141 - accuracy: 0.9931 - val_loss: 0.1699 - val_accuracy: 0.9600\n",
      "Epoch 16/20\n",
      "63/63 [==============================] - 5s 73ms/step - loss: 0.0215 - accuracy: 0.9908 - val_loss: 0.3483 - val_accuracy: 0.9300\n",
      "Epoch 17/20\n",
      "63/63 [==============================] - 5s 73ms/step - loss: 0.0060 - accuracy: 0.9977 - val_loss: 0.2568 - val_accuracy: 0.9600\n",
      "Epoch 18/20\n",
      "63/63 [==============================] - 5s 73ms/step - loss: 0.0012 - accuracy: 1.0000 - val_loss: 0.2220 - val_accuracy: 0.9600\n",
      "Epoch 19/20\n",
      "63/63 [==============================] - 5s 73ms/step - loss: 8.3593e-04 - accuracy: 1.0000 - val_loss: 0.3128 - val_accuracy: 0.9450\n",
      "Epoch 20/20\n",
      "63/63 [==============================] - 5s 73ms/step - loss: 3.7158e-04 - accuracy: 1.0000 - val_loss: 0.2708 - val_accuracy: 0.9600\n"
     ]
    }
   ],
   "source": [
    "history = model.fit(\n",
    "    training_set,\n",
    "    steps_per_epoch=len(training_set),  # Number of batches per epoch\n",
    "    epochs=20,\n",
    "    validation_data=test_set,\n",
    "    validation_steps=len(test_set)  # Number of batches for validation\n",
    ")\n"
   ]
  },
  {
   "cell_type": "markdown",
   "id": "6a3c6706",
   "metadata": {},
   "source": [
    "### Test accuracy "
   ]
  },
  {
   "cell_type": "code",
   "execution_count": 18,
   "id": "84a4d22c",
   "metadata": {},
   "outputs": [
    {
     "name": "stdout",
     "output_type": "stream",
     "text": [
      "29/29 [==============================] - 0s 13ms/step - loss: 0.2708 - accuracy: 0.9600\n",
      "Test accuracy: 96.00%\n"
     ]
    }
   ],
   "source": [
    "test_loss, test_acc = model.evaluate(test_set)\n",
    "\n",
    "print('Test accuracy: {:2.2f}%'.format(test_acc*100))"
   ]
  },
  {
   "cell_type": "markdown",
   "id": "57292d66",
   "metadata": {},
   "source": [
    "### printing summary"
   ]
  },
  {
   "cell_type": "code",
   "execution_count": 19,
   "id": "30a1cfd9",
   "metadata": {},
   "outputs": [
    {
     "name": "stdout",
     "output_type": "stream",
     "text": [
      "Model: \"sequential\"\n",
      "_________________________________________________________________\n",
      "Layer (type)                 Output Shape              Param #   \n",
      "=================================================================\n",
      "conv2d (Conv2D)              (None, 118, 118, 32)      320       \n",
      "_________________________________________________________________\n",
      "max_pooling2d (MaxPooling2D) (None, 59, 59, 32)        0         \n",
      "_________________________________________________________________\n",
      "conv2d_1 (Conv2D)            (None, 57, 57, 64)        18496     \n",
      "_________________________________________________________________\n",
      "max_pooling2d_1 (MaxPooling2 (None, 28, 28, 64)        0         \n",
      "_________________________________________________________________\n",
      "conv2d_2 (Conv2D)            (None, 26, 26, 128)       73856     \n",
      "_________________________________________________________________\n",
      "max_pooling2d_2 (MaxPooling2 (None, 13, 13, 128)       0         \n",
      "_________________________________________________________________\n",
      "flatten (Flatten)            (None, 21632)             0         \n",
      "_________________________________________________________________\n",
      "dense (Dense)                (None, 256)               5538048   \n",
      "_________________________________________________________________\n",
      "dense_1 (Dense)              (None, 4)                 1028      \n",
      "=================================================================\n",
      "Total params: 5,631,748\n",
      "Trainable params: 5,631,748\n",
      "Non-trainable params: 0\n",
      "_________________________________________________________________\n"
     ]
    }
   ],
   "source": [
    "model.summary()"
   ]
  },
  {
   "cell_type": "code",
   "execution_count": null,
   "id": "4f640f42",
   "metadata": {},
   "outputs": [],
   "source": []
  },
  {
   "cell_type": "markdown",
   "id": "053d3de7",
   "metadata": {},
   "source": [
    "### Result Analysis "
   ]
  },
  {
   "cell_type": "code",
   "execution_count": 20,
   "id": "eeeef09c",
   "metadata": {},
   "outputs": [],
   "source": [
    "import matplotlib.pyplot as plt\n",
    "acc = history.history['accuracy']\n",
    "val_acc = history.history['val_accuracy']\n",
    "loss = history.history['loss']\n",
    "val_loss = history.history['val_loss']\n",
    "epochs = range(len(acc))"
   ]
  },
  {
   "cell_type": "code",
   "execution_count": 21,
   "id": "b569fed8",
   "metadata": {},
   "outputs": [
    {
     "data": {
      "image/png": "[encoded data removed]",
      "text/plain": [
       "<Figure size 640x480 with 1 Axes>"
      ]
     },
     "metadata": {},
     "output_type": "display_data"
    },
    {
     "data": {
      "text/plain": [
       "<Figure size 640x480 with 0 Axes>"
      ]
     },
     "metadata": {},
     "output_type": "display_data"
    }
   ],
   "source": [
    "plt.plot(epochs, acc, 'r', label='Training accuracy')\n",
    "plt.plot(epochs, val_acc, 'g', label='Validation accuracy')\n",
    "plt.title('Training and validation accuracy')\n",
    "plt.legend(loc=0)\n",
    "plt.figure()\n",
    "\n",
    "\n",
    "plt.show()"
   ]
  },
  {
   "cell_type": "code",
   "execution_count": null,
   "id": "b0aa6d12",
   "metadata": {},
   "outputs": [],
   "source": []
  },
  {
   "cell_type": "code",
   "execution_count": null,
   "id": "975c96dd",
   "metadata": {},
   "outputs": [],
   "source": []
  },
  {
   "cell_type": "markdown",
   "id": "eed6a10f",
   "metadata": {},
   "source": [
    "### Saving the model weights "
   ]
  },
  {
   "cell_type": "code",
   "execution_count": 22,
   "id": "721d8982",
   "metadata": {},
   "outputs": [],
   "source": [
    "model_json = model.to_json()\n",
    "with open(\"gesture-model.json\", \"w\") as json_file:\n",
    "    json_file.write(model_json)\n",
    "model.save_weights('gesture-model.h5')"
   ]
  },
  {
   "cell_type": "markdown",
   "id": "92e26b81",
   "metadata": {},
   "source": [
    "### Hand Gesture Prediction and volume Control "
   ]
  },
  {
   "cell_type": "code",
   "execution_count": 23,
   "id": "b42c37d6",
   "metadata": {},
   "outputs": [],
   "source": [
    "from keras.models import model_from_json\n",
    "import operator\n",
    "import cv2\n",
    "import sys, os\n",
    "import pyautogui\n",
    "import time"
   ]
  },
  {
   "cell_type": "markdown",
   "id": "b29a902e",
   "metadata": {},
   "source": [
    "### Loading the model "
   ]
  },
  {
   "cell_type": "code",
   "execution_count": 24,
   "id": "e64aefc7",
   "metadata": {},
   "outputs": [
    {
     "name": "stdout",
     "output_type": "stream",
     "text": [
      "Loaded model from disk\n"
     ]
    }
   ],
   "source": [
    "json_file = open(\"gesture-model.json\", \"r\")\n",
    "model_json = json_file.read()\n",
    "json_file.close()\n",
    "loaded_model = model_from_json(model_json)\n",
    "\n",
    "# load weights into new model\n",
    "loaded_model.load_weights(\"gesture-model.h5\")\n",
    "print(\"Loaded model from disk\")"
   ]
  },
  {
   "cell_type": "code",
   "execution_count": 25,
   "id": "466fab44",
   "metadata": {},
   "outputs": [],
   "source": [
    "final_label = \"\"\n",
    "action=\"\""
   ]
  },
  {
   "cell_type": "markdown",
   "id": "f5dbb3e4",
   "metadata": {},
   "source": [
    "### Final Gesture Detection "
   ]
  },
  {
   "cell_type": "code",
   "execution_count": 29,
   "id": "5ba1bc7b",
   "metadata": {},
   "outputs": [],
   "source": [
    "vid = cv2.VideoCapture(0)\n",
    "while (vid.isOpened()):\n",
    "\n",
    "    suc,frame = vid.read()\n",
    "    if suc:\n",
    "            frame = cv2.flip(frame, 1)\n",
    "\n",
    "            # Got this from collect-data.py\n",
    "            # Coordinates of the ROI\n",
    "            x1 = int(0.5*frame.shape[1])\n",
    "            y1 = 10\n",
    "            x2 = frame.shape[1]-10\n",
    "            y2 = int(0.5*frame.shape[1])\n",
    "            \n",
    "            # Drawing the ROI\n",
    "            # The increment/decrement by 1 is to compensate for the bounding box\n",
    "            cv2.rectangle(frame, (x1-1, y1-1), (x2+1, y2+1), (255,0,0),3)\n",
    "            # Extracting the ROI\n",
    "            roi = frame[y1:y2, x1:x2]\n",
    "\n",
    "            # Resizing the ROI so it can be fed to the model for prediction\n",
    "            roi = cv2.resize(roi, (120, 120))\n",
    "            roi = cv2.cvtColor(roi, cv2.COLOR_BGR2GRAY)\n",
    "            _, prediction_image = cv2.threshold(roi, 130, 255, cv2.THRESH_BINARY)\n",
    "            \n",
    "            cv2.imshow(\"prediction Image\", prediction_image)\n",
    "            result = loaded_model.predict(prediction_image.reshape(1, 120, 120, 1))\n",
    "            prediction = {\n",
    "                          'fist': result[0][0],\n",
    "                          'thumbs-up': result[0][1],\n",
    "                          'thumbs-down': result[0][2],\n",
    "                          'no-gesture':result[0][3]}\n",
    "            \n",
    "            # Sorting based on top prediction\n",
    "            prediction = sorted(prediction.items(), key=operator.itemgetter(1), reverse=True)\n",
    "\n",
    "            if (prediction[0][0] == 'fist'):\n",
    "                final_label = 'fist'\n",
    "                action = \"MUTE\"\n",
    "                pyautogui.press('volumemute', presses=1)\n",
    "            elif (prediction[0][0] == 'thumbs-up'):\n",
    "                final_label = \"thumbs-up\"\n",
    "                action = \"VOLUME UP\"\n",
    "                pyautogui.press('volumeup', presses=1)\n",
    "            elif (prediction[0][0] == \"thumbs-down\"):\n",
    "                final_label = \"thumbs-down\"\n",
    "                action = \"VOLUME DOWN\"\n",
    "                pyautogui.press('volumedown', presses=1)\n",
    "            elif (prediction[0][0] == \"no-gesture\"):\n",
    "                final_label = \"no-gesture\"\n",
    "                action = \"NO-ACTION\" # No key press is simulated in this case\n",
    "                \n",
    "            text1= \"Gesture: {}\".format(final_label)\n",
    "            text2= \"Action:{}\".format(action)\n",
    "\n",
    "            cv2.putText(frame, text1 , (10, 120), cv2.FONT_HERSHEY_COMPLEX_SMALL, 1, (0, 255, 255), 1)\n",
    "            cv2.putText(frame, text2 , (10, 220), cv2.FONT_HERSHEY_COMPLEX_SMALL, 1, (0, 255, 255), 1)\n",
    "            cv2.imshow(\"Hand Gesture Recognition\", frame)\n",
    "\n",
    "    if cv2.waitKey(1) & 0xFF == ord('q'):\n",
    "        break\n",
    "        \n",
    "vid.release()\n",
    "cv2.destroyAllWindows()"
   ]
  },
  {
   "cell_type": "code",
   "execution_count": null,
   "id": "486b6497",
   "metadata": {},
   "outputs": [],
   "source": []
  },
  {
   "cell_type": "code",
   "execution_count": null,
   "id": "9bea6607",
   "metadata": {},
   "outputs": [],
   "source": []
  },
  {
   "cell_type": "code",
   "execution_count": null,
   "id": "cf1bcb45",
   "metadata": {},
   "outputs": [],
   "source": []
  }
 ],
 "metadata": {
  "kernelspec": {
   "display_name": "Python 3 (ipykernel)",
   "language": "python",
   "name": "python3"
  },
  "language_info": {
   "codemirror_mode": {
    "name": "ipython",
    "version": 3
   },
   "file_extension": ".py",
   "mimetype": "text/x-python",
   "name": "python",
   "nbconvert_exporter": "python",
   "pygments_lexer": "ipython3",
   "version": "3.8.5"
  }
 },
 "nbformat": 4,
 "nbformat_minor": 5
}
