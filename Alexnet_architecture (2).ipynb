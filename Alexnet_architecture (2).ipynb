{
 "cells": [
  {
   "cell_type": "code",
   "execution_count": 1,
   "id": "0e555d83",
   "metadata": {},
   "outputs": [],
   "source": [
    "import warnings\n",
    "warnings.filterwarnings('ignore')\n",
    "\n",
    "import keras\n",
    "import matplotlib.pyplot as plt # for plotting\n",
    "import os # provides a way of using operating system dependent functionality\n",
    "import cv2 #Image handling library\n",
    "import numpy as np\n",
    "\n",
    "# Import of keras model and hidden layers for our convolutional network\n",
    "from keras.layers import Conv2D, Activation, MaxPool2D, Dense, Flatten, Dropout"
   ]
  },
  {
   "cell_type": "code",
   "execution_count": 2,
   "id": "15df8d94",
   "metadata": {},
   "outputs": [],
   "source": [
    "CATEGORIES = [\n",
    " '01_fist',\n",
    " '02_thumbs-up',\n",
    " '03_thumbs-down',\n",
    " '04_no-gesture']\n",
    "\n",
    "IMG_SIZE = 120\n",
    "\n",
    "# paths for dataset\n",
    "data_path = \"C:\\\\Users\\\\kalpa\\\\Desktop\\\\data\\\\data\\\\train\""
   ]
  },
  {
   "cell_type": "code",
   "execution_count": 3,
   "id": "31683a7d",
   "metadata": {},
   "outputs": [],
   "source": [
    "# Loading the images and their class(0 - 9)\n",
    "image_data = []"
   ]
  },
  {
   "cell_type": "code",
   "execution_count": 4,
   "id": "783391d0",
   "metadata": {},
   "outputs": [
    {
     "name": "stdout",
     "output_type": "stream",
     "text": [
      "0\n",
      "C:\\Users\\kalpa\\Desktop\\data\\data\\train\\01_fist\n",
      "1\n",
      "C:\\Users\\kalpa\\Desktop\\data\\data\\train\\02_thumbs-up\n",
      "2\n",
      "C:\\Users\\kalpa\\Desktop\\data\\data\\train\\03_thumbs-down\n",
      "3\n",
      "C:\\Users\\kalpa\\Desktop\\data\\data\\train\\04_no-gesture\n"
     ]
    }
   ],
   "source": [
    "                      \n",
    "for category in CATEGORIES:\n",
    "    # Get the index of the category\n",
    "    class_index = CATEGORIES.index(category)\n",
    "    # Print the class index\n",
    "    print(class_index)\n",
    "    # Construct path to the current category folder using os.path.join()\n",
    "    path = os.path.join(data_path, category)\n",
    "    # Print the path\n",
    "    print(path)\n",
    "    # Iterate through each image in the current category folder\n",
    "    for img_name in os.listdir(path):\n",
    "        try:\n",
    "            # Construct full path to the image\n",
    "            img_path = os.path.join(path, img_name)\n",
    "            # Read the image in grayscale\n",
    "            img_arr = cv2.imread(img_path, cv2.IMREAD_GRAYSCALE)\n",
    "            # Resize the image\n",
    "            resized_img = cv2.resize(img_arr, (IMG_SIZE, IMG_SIZE))\n",
    "            # Append the resized image and its class index to image_data\n",
    "            image_data.append([resized_img, class_index])\n",
    "        except Exception as e:\n",
    "            # If there's any error, skip the image\n",
    "            pass"
   ]
  },
  {
   "cell_type": "code",
   "execution_count": 5,
   "id": "8e1d2e43",
   "metadata": {},
   "outputs": [],
   "source": [
    "# shuffle the input data\n",
    "import random\n",
    "random.shuffle(image_data)"
   ]
  },
  {
   "cell_type": "code",
   "execution_count": 6,
   "id": "3fcf26dc",
   "metadata": {},
   "outputs": [],
   "source": [
    "input_data = []\n",
    "label = []\n",
    "for X, y in image_data:\n",
    "    input_data.append(X)\n",
    "    label.append(y)"
   ]
  },
  {
   "cell_type": "code",
   "execution_count": 7,
   "id": "1f5a2906",
   "metadata": {},
   "outputs": [
    {
     "data": {
      "text/plain": [
       "(983, 120, 120)"
      ]
     },
     "execution_count": 7,
     "metadata": {},
     "output_type": "execute_result"
    }
   ],
   "source": [
    "# Normalizing the data\n",
    "input_data = np.array(input_data)\n",
    "label = np.array(label)\n",
    "input_data = input_data/255.0\n",
    "input_data.shape"
   ]
  },
  {
   "cell_type": "code",
   "execution_count": 8,
   "id": "28a7baf1",
   "metadata": {},
   "outputs": [],
   "source": [
    "# # one hot encoding\n",
    "# label = keras.utils.to_categorical(label, num_classes=4,dtype='i1')\n",
    "# label[0]\n",
    "\n",
    "\n",
    "from tensorflow.keras.utils import to_categorical\n",
    "\n",
    "# Assuming 'label' is your array of class labels\n",
    "#label = to_categorical(label, num_classes=4, dtype='i1')\n",
    "label = np.array(label, dtype='i1')  # Convert label array to numpy array with dtype 'i1'\n",
    "label = to_categorical(label, num_classes=4)"
   ]
  },
  {
   "cell_type": "markdown",
   "id": "6051ebf5",
   "metadata": {},
   "source": [
    "# Building the cnn"
   ]
  },
  {
   "cell_type": "code",
   "execution_count": 9,
   "id": "7b4f1320",
   "metadata": {},
   "outputs": [],
   "source": [
    "# reshaping the data\n",
    "input_data.shape = (-1, IMG_SIZE, IMG_SIZE, 1)"
   ]
  },
  {
   "cell_type": "code",
   "execution_count": 10,
   "id": "f92520fd",
   "metadata": {},
   "outputs": [],
   "source": [
    "# splitting the input_data to train and test data\n",
    "from sklearn.model_selection import train_test_split\n",
    "X_train, X_test, y_train, y_test = train_test_split(input_data, label, test_size = 0.3, random_state=0)"
   ]
  },
  {
   "cell_type": "code",
   "execution_count": 12,
   "id": "577bac1d",
   "metadata": {},
   "outputs": [],
   "source": [
    "from tensorflow.keras.models import Sequential\n",
    "from tensorflow.keras.layers import Conv2D, MaxPooling2D, Flatten, Dense, Dropout\n",
    "from tensorflow.keras.optimizers import SGD\n",
    "\n",
    "model = Sequential()\n",
    "\n",
    "# First convolutional layer\n",
    "model.add(Conv2D(filters=96, kernel_size=(11,11), strides=(4,4), padding='valid', input_shape=(IMG_SIZE, IMG_SIZE, 1)))\n",
    "model.add(Activation('relu'))\n",
    "model.add(MaxPooling2D(pool_size=(3,3), strides=(2,2)))\n",
    "\n",
    "# Second convolutional layer\n",
    "model.add(Conv2D(filters=256, kernel_size=(5,5), strides=(1,1), padding='same'))\n",
    "model.add(Activation('relu'))\n",
    "model.add(MaxPooling2D(pool_size=(3,3), strides=(2,2)))\n",
    "\n",
    "# Third convolutional layer\n",
    "model.add(Conv2D(filters=384, kernel_size=(3,3), strides=(1,1), padding='same'))\n",
    "model.add(Activation('relu'))\n",
    "\n",
    "# Fourth convolutional layer\n",
    "model.add(Conv2D(filters=384, kernel_size=(3,3), strides=(1,1), padding='same'))\n",
    "model.add(Activation('relu'))\n",
    "\n",
    "# Fifth convolutional layer\n",
    "model.add(Conv2D(filters=256, kernel_size=(3,3), strides=(1,1), padding='same'))\n",
    "model.add(Activation('relu'))\n",
    "model.add(MaxPooling2D(pool_size=(3,3), strides=(2,2)))\n",
    "\n",
    "# Flatten the convolutional layers output for fully connected layers\n",
    "model.add(Flatten())\n",
    "\n",
    "# Fully connected layer 1\n",
    "model.add(Dense(4096, activation='relu'))\n",
    "model.add(Dropout(0.5))\n",
    "\n",
    "# Fully connected layer 2\n",
    "model.add(Dense(4096, activation='relu'))\n",
    "model.add(Dropout(0.5))\n",
    "\n",
    "# Output layer\n",
    "model.add(Dense(4, activation='softmax'))\n",
    "\n",
    "# Define the optimizer with specific learning rate and momentum\n",
    "optimizer = SGD(learning_rate=0.01, momentum=0.9)\n",
    "\n",
    "# Compile the model with the specified optimizer\n",
    "model.compile(loss='categorical_crossentropy',\n",
    "              optimizer=optimizer,\n",
    "              metrics=['accuracy'])\n"
   ]
  },
  {
   "cell_type": "code",
   "execution_count": 26,
   "id": "8186c44f",
   "metadata": {},
   "outputs": [
    {
     "name": "stdout",
     "output_type": "stream",
     "text": [
      "Epoch 1/7\n",
      "22/22 [==============================] - 7s 303ms/step - loss: 0.0318 - accuracy: 0.9985 - val_loss: 0.1029 - val_accuracy: 0.9831\n",
      "Epoch 2/7\n",
      "22/22 [==============================] - 7s 300ms/step - loss: 0.0277 - accuracy: 0.9971 - val_loss: 0.1051 - val_accuracy: 0.9797\n",
      "Epoch 3/7\n",
      "22/22 [==============================] - 7s 302ms/step - loss: 0.0171 - accuracy: 0.9985 - val_loss: 0.0602 - val_accuracy: 0.9831\n",
      "Epoch 4/7\n",
      "22/22 [==============================] - 7s 303ms/step - loss: 0.0149 - accuracy: 0.9985 - val_loss: 0.0639 - val_accuracy: 0.9797\n",
      "Epoch 5/7\n",
      "22/22 [==============================] - 7s 306ms/step - loss: 0.0170 - accuracy: 0.9956 - val_loss: 0.0741 - val_accuracy: 0.9831\n",
      "Epoch 6/7\n",
      "22/22 [==============================] - 7s 314ms/step - loss: 0.0126 - accuracy: 0.9971 - val_loss: 0.0516 - val_accuracy: 0.9864\n",
      "Epoch 7/7\n",
      "22/22 [==============================] - 7s 319ms/step - loss: 0.0267 - accuracy: 0.9942 - val_loss: 0.0389 - val_accuracy: 0.9898\n"
     ]
    }
   ],
   "source": [
    "history=model.fit(X_train, y_train, epochs = 7, batch_size=32, validation_data=(X_test, y_test))\n"
   ]
  },
  {
   "cell_type": "code",
   "execution_count": 27,
   "id": "18d4c373",
   "metadata": {},
   "outputs": [
    {
     "name": "stdout",
     "output_type": "stream",
     "text": [
      "Model: \"sequential\"\n",
      "_________________________________________________________________\n",
      "Layer (type)                 Output Shape              Param #   \n",
      "=================================================================\n",
      "conv2d (Conv2D)              (None, 28, 28, 96)        11712     \n",
      "_________________________________________________________________\n",
      "activation (Activation)      (None, 28, 28, 96)        0         \n",
      "_________________________________________________________________\n",
      "max_pooling2d (MaxPooling2D) (None, 13, 13, 96)        0         \n",
      "_________________________________________________________________\n",
      "conv2d_1 (Conv2D)            (None, 13, 13, 256)       614656    \n",
      "_________________________________________________________________\n",
      "activation_1 (Activation)    (None, 13, 13, 256)       0         \n",
      "_________________________________________________________________\n",
      "max_pooling2d_1 (MaxPooling2 (None, 6, 6, 256)         0         \n",
      "_________________________________________________________________\n",
      "conv2d_2 (Conv2D)            (None, 6, 6, 384)         885120    \n",
      "_________________________________________________________________\n",
      "activation_2 (Activation)    (None, 6, 6, 384)         0         \n",
      "_________________________________________________________________\n",
      "conv2d_3 (Conv2D)            (None, 6, 6, 384)         1327488   \n",
      "_________________________________________________________________\n",
      "activation_3 (Activation)    (None, 6, 6, 384)         0         \n",
      "_________________________________________________________________\n",
      "conv2d_4 (Conv2D)            (None, 6, 6, 256)         884992    \n",
      "_________________________________________________________________\n",
      "activation_4 (Activation)    (None, 6, 6, 256)         0         \n",
      "_________________________________________________________________\n",
      "max_pooling2d_2 (MaxPooling2 (None, 2, 2, 256)         0         \n",
      "_________________________________________________________________\n",
      "flatten (Flatten)            (None, 1024)              0         \n",
      "_________________________________________________________________\n",
      "dense (Dense)                (None, 4096)              4198400   \n",
      "_________________________________________________________________\n",
      "dropout (Dropout)            (None, 4096)              0         \n",
      "_________________________________________________________________\n",
      "dense_1 (Dense)              (None, 4096)              16781312  \n",
      "_________________________________________________________________\n",
      "dropout_1 (Dropout)          (None, 4096)              0         \n",
      "_________________________________________________________________\n",
      "dense_2 (Dense)              (None, 4)                 16388     \n",
      "=================================================================\n",
      "Total params: 24,720,068\n",
      "Trainable params: 24,720,068\n",
      "Non-trainable params: 0\n",
      "_________________________________________________________________\n"
     ]
    }
   ],
   "source": [
    "model.summary()"
   ]
  },
  {
   "cell_type": "code",
   "execution_count": 29,
   "id": "7da871d5",
   "metadata": {},
   "outputs": [
    {
     "data": {
      "text/plain": [
       "<matplotlib.legend.Legend at 0x28b305a4640>"
      ]
     },
     "execution_count": 29,
     "metadata": {},
     "output_type": "execute_result"
    },
    {
     "data": {
      "image/png": "[encoded data removed]",
      "text/plain": [
       "<Figure size 640x480 with 1 Axes>"
      ]
     },
     "metadata": {},
     "output_type": "display_data"
    }
   ],
   "source": [
    "plt.plot(model.history.history['accuracy'])\n",
    "plt.plot(model.history.history['val_accuracy'])\n",
    "plt.title('Model Accuracy')\n",
    "plt.ylabel('Accuracy')\n",
    "plt.xlabel('Epochs')\n",
    "plt.legend(['train', 'test'])\n"
   ]
  },
  {
   "cell_type": "code",
   "execution_count": 30,
   "id": "501c07cd",
   "metadata": {},
   "outputs": [
    {
     "name": "stdout",
     "output_type": "stream",
     "text": [
      "10/10 [==============================] - 0s 44ms/step - loss: 0.0389 - accuracy: 0.9898\n",
      "Test accuracy: 98.98%\n"
     ]
    }
   ],
   "source": [
    "#calculate loss and accuracy on test data\n",
    "\n",
    "test_loss, test_accuracy = model.evaluate(X_test, y_test)\n",
    "\n",
    "print('Test accuracy: {:2.2f}%'.format(test_accuracy*100))"
   ]
  },
  {
   "cell_type": "code",
   "execution_count": null,
   "id": "e9e73229",
   "metadata": {},
   "outputs": [],
   "source": []
  },
  {
   "cell_type": "code",
   "execution_count": 34,
   "id": "a94d127a",
   "metadata": {},
   "outputs": [],
   "source": [
    "model_json = model.to_json()\n",
    "with open(\"visual-model.json\", \"w\") as json_file:\n",
    "    json_file.write(model_json)\n",
    "model.save_weights('visual-model.h5')"
   ]
  },
  {
   "cell_type": "code",
   "execution_count": 35,
   "id": "15761035",
   "metadata": {},
   "outputs": [],
   "source": [
    "import numpy as np\n",
    "from keras.models import model_from_json\n",
    "import operator\n",
    "import cv2\n",
    "import sys, os\n",
    "import pyautogui\n",
    "import time"
   ]
  },
  {
   "cell_type": "code",
   "execution_count": 36,
   "id": "836171a4",
   "metadata": {},
   "outputs": [
    {
     "name": "stdout",
     "output_type": "stream",
     "text": [
      "Loaded model from disk\n"
     ]
    }
   ],
   "source": [
    "json_file = open(\"visual-model.json\", \"r\")\n",
    "model_json = json_file.read()\n",
    "json_file.close()\n",
    "loaded_model = model_from_json(model_json)\n",
    "# load weights into new model\n",
    "loaded_model.load_weights(\"visual-model.h5\")\n",
    "print(\"Loaded model from disk\")"
   ]
  },
  {
   "cell_type": "code",
   "execution_count": 37,
   "id": "04233cfb",
   "metadata": {},
   "outputs": [],
   "source": [
    "final_label = \"\"\n",
    "action=\"\""
   ]
  },
  {
   "cell_type": "code",
   "execution_count": 38,
   "id": "a472e60f",
   "metadata": {},
   "outputs": [],
   "source": [
    "vid = cv2.VideoCapture(0)\n",
    "while (vid.isOpened()):\n",
    "\n",
    "    ret,frame = vid.read()\n",
    "    if ret:\n",
    "            frame = cv2.flip(frame, 1)\n",
    "\n",
    "            # Got this from collect-data.py\n",
    "            # Coordinates of the ROI\n",
    "            x1 = int(0.5*frame.shape[1])\n",
    "            y1 = 10\n",
    "            x2 = frame.shape[1]-10\n",
    "            y2 = int(0.5*frame.shape[1])\n",
    "            # Drawing the ROI\n",
    "            # The increment/decrement by 1 is to compensate for the bounding box\n",
    "            cv2.rectangle(frame, (x1-1, y1-1), (x2+1, y2+1), (255,0,0),3)\n",
    "            # Extracting the ROI\n",
    "            roi = frame[y1:y2, x1:x2]\n",
    "\n",
    "            # Resizing the ROI so it can be fed to the model for prediction\n",
    "            roi = cv2.resize(roi, (120, 120))\n",
    "            roi = cv2.cvtColor(roi, cv2.COLOR_BGR2GRAY)\n",
    "            _, test_image = cv2.threshold(roi, 130, 255, cv2.THRESH_BINARY)\n",
    "            cv2.imshow(\"Test Image\", test_image)\n",
    "            result = loaded_model.predict(test_image.reshape(1, 120, 120, 1))\n",
    "            prediction = {\n",
    "                          'fist': result[0][0],\n",
    "                          'thumbs-up': result[0][1],\n",
    "                          'thumbs-down': result[0][2],\n",
    "                          'no-gesture':result[0][3]}\n",
    "            \n",
    "                # Sorting based on top prediction\n",
    "            prediction = sorted(prediction.items(), key=operator.itemgetter(1), reverse=True)\n",
    "\n",
    "            if (prediction[0][0] == 'fist'):\n",
    "                final_label = 'fist'\n",
    "                action = \"MUTE\"\n",
    "                pyautogui.press('volumemute', presses=1)\n",
    "            elif (prediction[0][0] == 'thumbs-up'):\n",
    "                final_label = \"thumbs-up\"\n",
    "                action = \"VOLUME UP\"\n",
    "                pyautogui.press('volumeup', presses=1)\n",
    "            elif (prediction[0][0] == \"thumbs-down\"):\n",
    "                final_label = \"thumbs-down\"\n",
    "                action = \"VOLUME DOWN\"\n",
    "                pyautogui.press('volumedown', presses=1)\n",
    "            elif (prediction[0][0] == \"no-gesture\"):\n",
    "                final_label = \"no-gesture\"\n",
    "                action = \"NO-ACTION\"\n",
    "                \n",
    "            text1= \"Gesture: {}\".format(final_label)\n",
    "            text2= \"Action:{}\".format(action)\n",
    "\n",
    "            cv2.putText(frame, text1 , (10, 120), cv2.FONT_HERSHEY_COMPLEX_SMALL, 1, (255,0,0), 1)\n",
    "            cv2.putText(frame, text2 , (10, 220), cv2.FONT_HERSHEY_COMPLEX_SMALL, 1, (255,0,0), 1)\n",
    "            cv2.imshow(\"Hand Gesture Recognition\", frame)\n",
    "\n",
    "    if cv2.waitKey(1) & 0xFF == ord('q'):\n",
    "        break\n",
    "        \n",
    "vid.release()\n",
    "cv2.destroyAllWindows()"
   ]
  },
  {
   "cell_type": "code",
   "execution_count": null,
   "id": "b58dd52f",
   "metadata": {},
   "outputs": [],
   "source": []
  }
 ],
 "metadata": {
  "kernelspec": {
   "display_name": "Python 3 (ipykernel)",
   "language": "python",
   "name": "python3"
  },
  "language_info": {
   "codemirror_mode": {
    "name": "ipython",
    "version": 3
   },
   "file_extension": ".py",
   "mimetype": "text/x-python",
   "name": "python",
   "nbconvert_exporter": "python",
   "pygments_lexer": "ipython3",
   "version": "3.8.5"
  }
 },
 "nbformat": 4,
 "nbformat_minor": 5
}
